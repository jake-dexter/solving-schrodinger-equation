{
 "cells": [
  {
   "cell_type": "markdown",
   "id": "26cbbb",
   "metadata": {
    "collapsed": false
   },
   "source": [
    "# Solving the Schrödinger Equation for a Quantum Well\n",
    "\n",
    "**Objective:**  \n",
    "Numerically solve the time-independent Schrödinger equation for a quantum well. Analyse bound state energies, wavefunctions, and tunnelling effects.\n",
    "\n",
    "**Details:**\n",
    "\n",
    "- Discretize the Schrödinger equation using the finite difference method (second-order central difference).\n",
    "- Solve the resulting eigenvalue problem to obtain the energy eigenvalues and wavefunctions.\n",
    "- Extend the model to a double-well potential and study tunnelling effects.\n",
    "- Implement a time-dependent solution using the Crank–Nicholson method.\n",
    "- Simulate a wave packet moving towards the barrier and time evolution to observe partial transmission through the barrier and reflection from the barrier.\n",
    "\n"
   ]
  },
  {
   "cell_type": "markdown",
   "id": "af291a",
   "metadata": {
    "collapsed": false
   },
   "source": [
    "A key principle in this project is the **Finite Difference Method**. This is a method where you approximate the differential $dx$ using a small step $\\Delta x$. The time-independent Schrodinger equation is given generally by: $$ E\\psi = \\hat{H}\\psi \\ ,$$ where $$\\hat{H} = -\\frac{\\hbar^2}{2m} \\frac{\\partial^2}{\\partial x^2} + V(x) \\ ,$$ is the Hamiltonian operator. In order to approximate this using the finite difference method, or the second order central difference method, the following approximation will be used: $$ \\frac{d^2\\psi}{dx^2} \\approx \\frac{\\psi_{i+1} - 2\\psi_i + \\psi_{i-1}}{\\Delta x^2} \\: , i = 0, 2, 3, \\cdots , N \\ ,$$ with $N$ being the number of divisions in the interval $[a,b]$ being looked at. This will give $N+1$ linear equations that will all need to be solved to determine the solution of the wavefunction. It is clear to see that there must be a careful balance between the number of divisions and computation time is important, and using the methods found in the Numpy module the time complexity is of $O(N^3)$.\n",
    "\n",
    "This then gives the formula: $$\\hat{H}\\psi \\approx -\\frac{\\hbar^2}{2m} \\left[\\frac{\\psi_{i+1} - 2\\psi_i + \\psi_{i-1}}{\\Delta x^2}\\right] + V(x)\\psi_i = E\\psi_i \\ .$$ This can be written as a tridiagonal matrix of the following form, defining $\\alpha = \\frac{\\hbar^2}{2m\\Delta x^2}$:\n",
    "\n",
    "$$\n",
    "\\begin{bmatrix}\n",
    "2\\alpha + V_0 & -\\alpha & 0 & \\dots & 0 \\\\\n",
    "-\\alpha & 2\\alpha + V_1 & -\\alpha & \\dots & 0 \\\\\n",
    "0 & -\\alpha & 2\\alpha + V_2 & \\dots & 0 \\\\\n",
    "\\vdots & \\vdots & \\vdots & \\ddots & \\vdots \\\\\n",
    "0 & 0 & 0 & \\dots & 2\\alpha + V_N\n",
    "\\end{bmatrix}\n",
    "\\cdot\n",
    "\\begin{bmatrix}\n",
    "\\psi_0 \\\\\n",
    "\\psi_1 \\\\\n",
    "\\psi_2 \\\\\n",
    "\\vdots \\\\\n",
    "\\psi_N\n",
    "\\end{bmatrix}= E\n",
    "\\begin{bmatrix}\n",
    "\\psi_0 \\\\\n",
    "\\psi_1 \\\\\n",
    "\\psi_2 \\\\\n",
    "\\vdots \\\\\n",
    "\\psi_N\n",
    "\\end{bmatrix}\n",
    "$$\n",
    "\n",
    "This is a simple eigenvalue equation and can be solved using `scipy.linalg.solve_banded()` which will take the tridiagonal matrix and the column vector of wavefunctions at each step and return the corresponding energy of the wavefunction.\n",
    "\n"
   ]
  },
  {
   "cell_type": "code",
   "execution_count": 3,
   "id": "383f88",
   "metadata": {
    "collapsed": false
   },
   "outputs": [
    {
     "data": {
      "text/plain": [
       "<module 'HMatNew' from '/home/user/HMatNew.py'>"
      ]
     },
     "execution_count": 3,
     "metadata": {
     },
     "output_type": "execute_result"
    }
   ],
   "source": [
    "import importlib\n",
    "import numpy as np\n",
    "import matplotlib.pyplot as plt\n",
    "from scipy.linalg import eigh_tridiagonal, solve_banded\n",
    "from sympy.physics.hydrogen import R_nl, E_nl\n",
    "from sympy import symbols, lambdify\n",
    "from scipy.integrate import simps\n",
    "from scipy.sparse import diags\n",
    "from scipy.optimize import curve_fit\n",
    "import matplotlib.animation as animation\n",
    "from IPython.display import HTML\n",
    "\n",
    "import PotentialsNew as p\n",
    "importlib.reload(p)\n",
    "import HMatNew as H\n",
    "importlib.reload(H)"
   ]
  },
  {
   "cell_type": "code",
   "execution_count": 4,
   "id": "b71ff0",
   "metadata": {
    "collapsed": false
   },
   "outputs": [
   ],
   "source": [
    "# These constants will be used to convert from natural units where h=m=c=e=1 to the appropriate units, such as J or eV\n",
    "h_conv = 6.63e-34 # Js\n",
    "hbar_conv = h_conv/(2*np.pi) # Js\n",
    "c_conv = 299792458 # m/s\n",
    "e_conv = 1.60e-19 # C\n",
    "mass_elec = 9.11e-31 # kg\n",
    "eps0_conv = 8.85e-12 # F/m\n",
    "\n",
    "# Setting the bounds and deltaX\n",
    "lower = -5 # Lowest x value\n",
    "upper = 5 # Largest x value\n",
    "N = 5000 # The number of points on the x axis\n",
    "x = np.linspace(lower, upper, N) # The x axis split into N points\n",
    "deltaX = (x[1] - x[0]) # Finds the separation between the two points\n",
    "\n",
    "v0 = 15 # The height of the potential barrier used for the animation\n",
    "L = 1 # The width of the potential barrier used for the animation\n",
    "\n",
    "# Defining conversion factors\n",
    "distance_conv = 1e-9 # m to nm\n",
    "h = 1\n",
    "hbar = 1\n",
    "c = 1\n",
    "e = 1\n",
    "mass = 1\n",
    "\n",
    "# Define Gaussian wave packet parameters\n",
    "x0 = 0 # m, original position\n",
    "sigma = 1  # Width of the packet\n",
    "\n",
    "v_g = 5  # Picked arbitrarily\n",
    "k0 = mass * v_g / hbar  # Compute corresponding wave number, kinda irrelevant when hbar and mass = 1\n",
    "p0 = hbar * k0  # Compute momentum, again kinda irrelevant when hbar = 1\n",
    "\n",
    "energyConversion = hbar_conv**2 / (mass_elec * distance_conv**2)"
   ]
  },
  {
   "cell_type": "code",
   "execution_count": 4,
   "id": "884880",
   "metadata": {
    "collapsed": false
   },
   "outputs": [
    {
     "data": {
      "image/png": "[encoded data removed]",
      "text/plain": [
       "<Figure size 1200x700 with 1 Axes>"
      ]
     },
     "metadata": {
      "image/png": {
       "height": 622,
       "width": 1051
      }
     }
    }
   ],
   "source": [
    "# A dictionary containing some example potentials that can be swapped between\n",
    "examplePotentials = {\"FreeParticle\":p.FreeParticle(mass=1, momentum=5), \n",
    "                     \"HarmonicOscillator\":p.HarmonicOscillator(mass=1, width=2.5, omega=0.1, center=0),\n",
    "                     \"FinitePotentialWell\":p.FinitePotentialWell(mass=1, width=5, xmin=-2.5, v0=3),\n",
    "                     \"InfinitePotentialWell\":p.InfinitePotentialWell(mass=1, width=5, xmin=-2.5),\n",
    "                     \"PotentialBarrier\":p.PotentialBarrier(mass=1, width=1, xmin=-0.5, v0=15), \n",
    "                     \"DoublePotentialWell\":p.DoublePotentialWell(mass=1, width=0.5, xmin1= 0.5, xmin2=2, v0=25),\n",
    "                     \"DoubleSmoothPotential\":p.DoubleSmoothPotential(mass=1)\n",
    "                    }\n",
    "\n",
    "potentialType = \"HarmonicOscillator\" # Specifying the potential type\n",
    "\n",
    "potential = examplePotentials[potentialType]\n",
    "\n",
    "A = H.Hamiltonian(potential, x) # Create the Hamiltonian object\n",
    "eigenvalues, eigenvectors = A.solve()\n",
    "# Solve to generate the eigenvalues and eigenvectors, the eigenvalues need to have their dimensions adjusted so that they represent energies rather than being dimensionless\n",
    "\n",
    "fig, ax1 = plt.subplots()\n",
    "ax1.set_xlabel('x [nm]', fontsize=18)\n",
    "ax1.set_ylabel(r\"$E\\,[\\mathrm{eV}]$ (offset of $|\\psi(x)|^2$)\", fontsize=18)\n",
    "\n",
    "maxWavefunc = 10\n",
    "scaling = (eigenvalues[maxWavefunc] - eigenvalues[0]) * 0.05  # 5% of energy range\n",
    "\n",
    "for i in range(maxWavefunc):\n",
    "    prob_density = eigenvectors[:, i]**2\n",
    "    prob_density /= prob_density.max()  # normalise to 1\n",
    "    # Shift based on eigenvalue\n",
    "    if eigenvalues[i] <= max(A.V):\n",
    "        shifted_wavefunction = prob_density * scaling + eigenvalues[i]\n",
    "    else:\n",
    "        # Add an extra small offset if above potential\n",
    "        shifted_wavefunction = prob_density * scaling + max(A.V) + (i * scaling)\n",
    "    ax1.plot(x, shifted_wavefunction * energyConversion/e_conv, label=f'n = {i}')\n",
    "                 \n",
    "# Plot potential on same axis\n",
    "ax1.plot(x, A.V * energyConversion/e_conv, color='black', label='V(x)', zorder=0)\n",
    "\n",
    "# Add legend, remove y-ticks\n",
    "ax1.legend(loc=3, fontsize = 18)\n",
    "#ax1.set_yticks([])\n",
    "\n",
    "ax1.set_ylim(0, (eigenvalues[maxWavefunc-1] + scaling*2)*energyConversion/e_conv)\n",
    "ax1.tick_params(labelsize=18)\n",
    "#plt.savefig(potentialType)\n",
    "plt.show()"
   ]
  },
  {
   "cell_type": "code",
   "execution_count": 5,
   "id": "3fae5f",
   "metadata": {
    "collapsed": false
   },
   "outputs": [
    {
     "name": "stdout",
     "output_type": "stream",
     "text": [
      "(0.7398277593517762 +- 2.868696585481556)e-12\n"
     ]
    }
   ],
   "source": [
    "# Checking waves are orthonormal\n",
    "NStates = 15\n",
    "total = []\n",
    "for i in range(NStates):\n",
    "    for j in range(NStates):\n",
    "        if i != j:\n",
    "            overlap = simps(np.conj(eigenvectors[:, i] * eigenvectors[:, j]), x)\n",
    "            total.append(overlap)\n",
    "mean = np.mean(total)\n",
    "err = np.std(total, ddof = 1) / np.sqrt(NStates)\n",
    "\n",
    "print(f\"({mean*1e12} +- {err*1e12})e-12\")"
   ]
  },
  {
   "cell_type": "markdown",
   "id": "b82bfd",
   "metadata": {
    "collapsed": false
   },
   "source": [
    "The next step is to move onto the time **dependant** Schrodinger equation (TDSE) . The method used to solve this will be the Crank-Nicholson method. The time dependant Schrodinger equation is given by: $$i\\hbar \\frac{\\partial \\psi}{\\partial t} = \\hat{H}\\psi = -\\frac{\\hbar^2}{2m} \\frac{\\partial^2\\psi}{\\partial x^2} + V(x,t)\\psi \\ .$$ Using the Crank-Nicholson method this can be rewritten in the form: $$(I - \\frac{i\\Delta t}{2\\hbar}\\hat{H})\\psi^{(n)} = (I + \\frac{i\\Delta t}{2\\hbar}\\hat{H})\\psi^{(n-1)} \\ ,$$ with $\\hat{H}$ being the Hamiltonian obtained from the TISE. Writing this as a matrix equation we obtain: $$M_1\\psi^{(n)} = M_2 \\psi^{(n-1)} \\ ,$$ meaning that the next wavefunction is obtained from the previous one by inverting $M_1$ to get $M_1^{-1}$ giving a final equation of the form: $$\\psi^{(n)} = M_1^{-1} M_2 \\psi^{(n-1)} \\ .$$ This would be the best way to solve this if it was done by hand, but seeing as we can make use of `scipy.linalg.solve_banded()` we can just solve the general equation $Ax = b$."
   ]
  },
  {
   "cell_type": "code",
   "execution_count": 6,
   "id": "6bde1d",
   "metadata": {
    "collapsed": false
   },
   "outputs": [
   ],
   "source": [
    "# Redefine the potential for a new potential\n",
    "potential = examplePotentials[\"FreeParticle\"]\n",
    "\n",
    "A = H.Hamiltonian(potential, x) # Create the Hamiltonian object\n",
    "eigenvalues, eigenvectors = A.solve()\n",
    "\n",
    "# Define incoming Gaussian wave packet and normalise it\n",
    "wavefunc = np.exp(-((x - x0) ** 2) / (2 * sigma ** 2)) * np.exp(-1j * k0 * x)\n",
    "wavefunc /= np.linalg.norm(wavefunc) * np.sqrt(deltaX)  # Normalise only at start\n",
    "\n",
    "# Identity matrix\n",
    "I = np.identity(N)\n",
    "\n",
    "# Build the Hamiltonian matrix (dense array) from its tridiagonal pieces\n",
    "H_mat = diags([A.lowerDiag, A.mainDiag, A.upperDiag], offsets=[-1, 0, 1]).toarray()\n",
    "\n",
    "# Time step, we want a 15 second video that covers a simulated time of 2s, these can be adjusted along with the group velocity above to change how fast the particles move\n",
    "fps = 30 # s^-1\n",
    "duration = 15 # s\n",
    "simulationTime = 2 #s\n",
    "\n",
    "deltaT = simulationTime / (fps * duration)\n",
    "\n",
    "# Define M1 and M2\n",
    "M1 = I - (1j * deltaT) / (2 * hbar) * H_mat\n",
    "M2 = I + (1j * deltaT) / (2 * hbar) * H_mat\n",
    "\n",
    "# Extract the banded diagonals from M1 (for solve_banded)\n",
    "lowerDiag_M1 = np.diag(M1, k=-1)  # subdiagonal\n",
    "mainDiag_M1  = np.diag(M1, k=0)   # main diagonal\n",
    "upperDiag_M1 = np.diag(M1, k=1)   # superdiagonal\n",
    "\n",
    "# Correct the banded matrix format\n",
    "M1_banded = np.vstack([\n",
    "    np.append(upperDiag_M1, [0]),  # Superdiagonal padded at the end\n",
    "    mainDiag_M1,                    # Main diagonal\n",
    "    np.append([0], lowerDiag_M1)    # Subdiagonal padded at the beginning\n",
    "])\n",
    "\n",
    "# Generate an array to store the history of the wavefunction\n",
    "wavefuncHistory = [wavefunc]\n",
    "\n",
    "# Loop through the required number of timesteps \n",
    "timesteps = fps*duration\n",
    "for _ in range(timesteps):\n",
    "    rhs = M2 @ wavefunc # Determine the rhs of the equation\n",
    "    wavefunc = solve_banded((1, 1), M1_banded, rhs)  # Solve the equation Ax=b, updating the next wavefunction using the previous\n",
    "    wavefuncHistory.append(wavefunc) # Append the current wavefunction to wavefuncHistory array"
   ]
  },
  {
   "cell_type": "code",
   "execution_count": 7,
   "id": "6055c5",
   "metadata": {
    "collapsed": false
   },
   "outputs": [
    {
     "data": {
      "text/plain": [
       "<IPython.core.display.HTML object>"
      ]
     }
    },
    {
     "data": {
      "image/png": "[encoded data removed]",
      "text/plain": [
       "<Figure size 1200x700 with 3 Axes>"
      ]
     },
     "metadata": {
      "image/png": {
       "height": 602,
       "width": 959
      }
     }
    }
   ],
   "source": [
    "# Generate the subplots to allow all waves to be plotted on the same axis and fit within the same scale\n",
    "fig, ax1 = plt.subplots()\n",
    "ax2 = ax1.twinx()\n",
    "ax3 = ax1.twinx()\n",
    "\n",
    "# Plot real & imaginary on ax1\n",
    "real_line, = ax1.plot(x, wavefuncHistory[0].real, label=r'Real($\\psi(x,t)$)')\n",
    "imag_line, = ax1.plot(x, wavefuncHistory[0].imag, label=r'Imag($\\psi(x,t)$)')\n",
    "\n",
    "# Plot probability density on ax2\n",
    "prob_line, = ax2.plot(x, np.abs(wavefuncHistory[0])**2, label='$|\\psi(x,t)|^2$', color = 'blue')\n",
    "\n",
    "# Plot the potential on ax3\n",
    "potential_line = ax3.plot(x, A.V if max(A.V) != 0 else A.V, color = 'dimgray', alpha = 0.7)\n",
    "\n",
    "# Set the x label to be m\n",
    "ax1.set_xlabel('x (m)')\n",
    "\n",
    "# Align the zero points\n",
    "ax1.set_ylim(-1.5, 1.5)\n",
    "ax2.set_ylim(-1.5, 1.5)\n",
    "ax3.set_ylim(-1.5, 1.5)\n",
    "\n",
    "# Remove y-axis labels and ticks\n",
    "ax1.set_yticklabels([])\n",
    "ax2.set_yticklabels([])\n",
    "ax3.set_yticklabels([])\n",
    "\n",
    "# Combine legends for both y-axes\n",
    "lines = [real_line, imag_line, prob_line]\n",
    "labels = [line.get_label() for line in lines]\n",
    "ax1.legend(lines, labels, loc='upper right')\n",
    "\n",
    "# Carry out the animation\n",
    "def update(frame):\n",
    "    psi = wavefuncHistory[frame]\n",
    "    real_line.set_ydata(psi.real)\n",
    "    imag_line.set_ydata(psi.imag)\n",
    "    prob_line.set_ydata(np.abs(psi)**2)\n",
    "    return real_line, imag_line, prob_line\n",
    "\n",
    "ani = animation.FuncAnimation(\n",
    "    fig, update, frames=len(wavefuncHistory), \n",
    "    interval=1000/fps, blit=False\n",
    ")\n",
    "\n",
    "# Display the animation\n",
    "HTML(ani.to_html5_video())\n"
   ]
  },
  {
   "cell_type": "code",
   "execution_count": 9,
   "id": "1b1b7f",
   "metadata": {
    "collapsed": false
   },
   "outputs": [
    {
     "data": {
      "image/png": "[encoded data removed]",
      "text/plain": [
       "<Figure size 1200x700 with 1 Axes>"
      ]
     },
     "metadata": {
      "image/png": {
       "height": 645,
       "width": 1097
      }
     }
    }
   ],
   "source": [
    "areaArr = []\n",
    "for wavefunc in wavefuncHistory:\n",
    "    probDens = np.abs(wavefunc)**2\n",
    "    currArea = simps(probDens, x)\n",
    "    areaArr.append(currArea)\n",
    "\n",
    "wavefuncNum = np.arange(0, simulationTime+deltaT, deltaT)\n",
    "\n",
    "plt.plot(wavefuncNum, areaArr)\n",
    "plt.ylabel('Area under wave packet', fontsize=18)\n",
    "plt.xlabel('Duration of animation', fontsize=18)\n",
    "plt.xticks(fontsize=18)\n",
    "plt.yticks(fontsize=18)\n",
    "plt.grid()\n",
    "plt.gca().yaxis.get_offset_text().set_fontsize(18)\n",
    "plt.show()"
   ]
  },
  {
   "cell_type": "markdown",
   "id": "775756",
   "metadata": {
    "collapsed": false
   },
   "source": [
    "The final step will be to determine the incident, $(I)$, reflection $(R)$, barrier, and transmission $(T)$ coefficients for a potential barrier. We define the coefficients as follows: $$ I = \\int_{-\\infty}^{\\infty} |\\psi(x, t_0)|^2 \\, dx  \\ ,$$ $$ R = \\int_{-\\infty}^{x_0} |\\psi(x, t_f)|^2 \\, dx  \\ ,$$ $$ T = \\int_{x_0 + \\Delta x_0}^{\\infty} |\\psi(x, t_f)|^2 \\, dx  \\ ,$$ $$ B = \\int^{x_0 + \\Delta x_0}_{x_0} |\\psi(x, t_f)|^2 \\, dx  \\ ,$$ with $x_0$ representing the position of the barrier and $\\Delta x$ representing the width of the barrier. This can be solved pretty simply using our earlier analysis.We expect that $I = T + R + B$."
   ]
  },
  {
   "cell_type": "code",
   "execution_count": 12,
   "id": "68c2e2",
   "metadata": {
    "collapsed": false
   },
   "outputs": [
    {
     "data": {
      "image/png": "[encoded data removed]",
      "text/plain": [
       "<Figure size 1200x600 with 12 Axes>"
      ]
     },
     "metadata": {
      "image/png": {
       "height": 556,
       "width": 1097
      }
     }
    }
   ],
   "source": [
    "# Plot several time steps\n",
    "roman_numerals = ['(i)', '(ii)', '(iii)', '(iv)', '(v)', '(vi)']\n",
    "tsteps = np.array([0, 90, 180, 270, 360, 450])\n",
    "frametimes=tsteps*deltaT\n",
    "fig, axes = plt.subplots(2, 3, figsize=(12, 6), sharex = True)\n",
    "axes = axes.flatten()\n",
    "\n",
    "for i, t in enumerate(tsteps):\n",
    "    ax1 = axes[i]\n",
    "    ax2 = ax1.twinx()\n",
    "\n",
    "    ax1.plot(x, np.abs(wavefuncHistory[t])**2, color='blue')\n",
    "    ax2.plot(x, A.V, color='dimgray', alpha=0.7)\n",
    "    \n",
    "    ax1.set_yticklabels([])\n",
    "    ax1.set_xticks([-5, 5])\n",
    "    ax1.set_xticklabels(['–5', '5'])\n",
    "    \n",
    "    ax2.set_yticklabels([])\n",
    "\n",
    "    ax1.set_title(f'{roman_numerals[i]} t = {frametimes[i]:.2f}', fontsize=18)\n",
    "    ax1.set_xlim(x.min(), x.max())\n",
    "    ax1.tick_params(labelsize=18)\n",
    "    \n",
    "fig.text(0.5, 0.04, 'Position x [nm]', ha='center', fontsize=18)\n",
    "fig.text(0.04, 0.5, r'$|\\psi(x, t)|^2$', va='center', rotation='vertical', fontsize=18)\n",
    "plt.tight_layout(rect=[0.06, 0.06, 0.95, 0.95])\n",
    "plt.show()    "
   ]
  },
  {
   "cell_type": "code",
   "execution_count": 0,
   "id": "578688",
   "metadata": {
    "collapsed": false
   },
   "outputs": [
   ],
   "source": [
    "# Calculate coefficients\n",
    "potential = p.PotentialBarrier(mass=1, width=1, xmin=-0.5, v0=15)\n",
    "A = H.Hamiltonian(potential, x) # Create the Hamiltonian object\n",
    "eigenvalues, eigenvectors = A.solve()\n",
    "\n",
    "wavefuncHistory = np.array(wavefuncHistory)\n",
    "\n",
    "x_I = x[x < potential.xmin]                               # Incident region\n",
    "x_T = x[x > potential.xmin + potential.width]             # Transmitted region\n",
    "x_R = x[x < potential.xmin]                               # Reflected region (same as x_I)\n",
    "x_B = x[(x > potential.xmin) & (x < potential.xmin + potential.width)]\n",
    "\n",
    "# Get corresponding wavefunction slices\n",
    "psi_I = np.abs(wavefuncHistory[0, x < potential.xmin])**2\n",
    "\n",
    "\n",
    "    \n",
    "R_arr = []\n",
    "T_arr = []\n",
    "B_arr = []\n",
    "for i in range(len(wavefuncHistory)):\n",
    "    psi_T = np.abs(wavefuncHistory[i, x > potential.xmin + potential.width])**2\n",
    "        psi_R = np.abs(wavefuncHistory[i, x < potential.xmin])**2\n",
    "        psi_B = np.abs(wavefuncHistory[i, (x > potential.xmin) & (x < potential.xmin + potential.width)])**2\n",
    "\n",
    "        # Integrate probability densities\n",
    "        R = simps(psi_R, x_I)\n",
    "    )\n",
    "        T = simps(psi_T, x_T)\n",
    "        B = simps(psi_B, x_B)\n",
    "    \n",
    "    _arr.append(R)\n",
    "    T_arr.append(T)\n",
    "    B_arr.append(B)\n",
    "\n",
    "R_arr = np.array(R_arr)\n",
    "T_arr = np.array(T_arr)\n",
    "B_arr = np.array(B_arr)\n",
    "\n",
    "    \n",
    "x_coeff = np.arange(0, len(wavefuncHistory))\n",
    "plt.plot(x_coeff, R_arr, label = 'Incident/Reflected')\n",
    "plt.plot(x_coeff, T_arr, label = 'Transmitted')\n",
    "plt.plot(x_coeff, B_arr, label = 'Inside the barrier')\n",
    "plt.plot(x_coeff, R_arr + T_arr + B_arr, label = 'Sum')\n",
    "plt.legend()\n",
    "plt.show()\n",
    "\n",
    "print(\"The final coefficients are:\")\n",
    "print(f\"I/R = {R_arr[-1]:.3f}\")\n",
    "print(f\"T = {T_arr[-1]:.3f}\")\n",
    "print(f\"B = {B_arr[-1]:.3f}\")import matplotlib.gridspec as gridspec\n",
    "\n",
    "fig = plt.figure(figsize=(12, 6))\n",
    "gs = gridspec.GridSpec(2, 3, figure=fig)\n",
    "\n",
    "axes = []\n",
    "# Top row: all 3 columns\n",
    "for i in range(3):\n",
    "    axes.append(fig.add_subplot(gs[0, i]))\n",
    "\n",
    "# Bottom row: centre the two by skipping column 0\n",
    "axes.append(fig.add_subplot(gs[1, 1]))\n",
    "axes.append(fig.add_subplot(gs[1, 2])for t in tsteps:\n",
    "    ax1.set_title(f't = {t}')\n",
    "    ax1.set_xlim(x.min(), x.max())\n",
    "\n",
    "plot(x, np.abs(wavefuncHistory[t])**2, color='blue')\n",
    "    ax1.set_xlabel('x [m]')\n",
    "\n",
    "    ax1.legend()\n",
    "ax2.plot(x, coefficientsH.V)\n",
    "print(len(wavefuncHistory))"
   ]
  },
  {
   "cell_type": "code",
   "execution_count": 0,
   "id": "582d57",
   "metadata": {
    "collapsed": false
   },
   "outputs": [
   ],
   "source": [
    "print(p.DoublePotentialWell)  # Confirm the class exists\n",
    "width = 0.5\n",
    "potential = p.DoublePotentialWell(mass=1, width= width, xmin1= 0.5, xmin2=2, v0=25)\n",
    "print(\"Object attributes:\", vars(potential))  # Show all attributes"
   ]
  },
  {
   "cell_type": "code",
   "execution_count": 41,
   "id": "a477ef",
   "metadata": {
    "collapsed": false
   },
   "outputs": [
    {
     "name": "stdout",
     "output_type": "stream",
     "text": [
      "\n",
      "Key Results:\n",
      "Maximum transmission: 0.909 at √(V₀-Eₖ) = 0.71\n",
      "Minimum reflection: 0.059 at √(V₀-Eₖ) = 0.71\n"
     ]
    },
    {
     "data": {
      "image/png": "[encoded data removed]",
      "text/plain": "<Figure size 1000x600 with 1 Axes>"
     },
     "metadata": {
      "image/png": {
       "height": 547,
       "width": 846
      }
     }
    }
   ],
   "source": [
    "# Define barrier height range (more points for smoother curves)\n",
    "v0_values = np.linspace(13, 30, 19)  # Barrier heights to test\n",
    "\n",
    "# Dictionary to store coefficients\n",
    "coefficients = {'R': [], 'T': [], 'B': []}\n",
    "sqrt_v0_minus_Ek = []  # Will store sqrt(V0 - Ek) values\n",
    "\n",
    "# Fixed parameters\n",
    "v_g = 5  # Fixed group velocity\n",
    "k0 = mass * v_g / hbar  # Wave number\n",
    "p0 = hbar * k0  # Momentum\n",
    "Ek =12.5  # Particle kinetic energy\n",
    "\n",
    "for v0 in v0_values:\n",
    "    # Calculate sqrt(V0 - Ek) for x-axis\n",
    "    sqrt_val = np.sqrt(v0 - Ek)\n",
    "    sqrt_v0_minus_Ek.append(sqrt_val)\n",
    "    \n",
    "    # Define potential barrier (fixed width, varying height)\n",
    "    potential = p.FinitePotentialWell(mass=1, width=1, xmin=-2.5, v0=v0)\n",
    "    \n",
    "    # Create Hamiltonian object and solve for eigenvalues/eigenvectors\n",
    "    A = H.Hamiltonian(potential, x)\n",
    "    eigenvalues, eigenvectors = A.solve()\n",
    "\n",
    "    # Define and normalize the initial Gaussian wave packet\n",
    "    wavefunc = np.exp(-((x - x0) ** 2) / (2 * sigma ** 2)) * np.exp(-1j * k0 * x)\n",
    "    wavefunc /= np.linalg.norm(wavefunc) * np.sqrt(deltaX)\n",
    "\n",
    "    # Identity matrix\n",
    "    I = np.identity(N)\n",
    "\n",
    "    # Build Hamiltonian matrix\n",
    "    H_mat = diags([A.lowerDiag, A.mainDiag, A.upperDiag], offsets=[-1, 0, 1]).toarray()\n",
    "\n",
    "    # Define time step parameters\n",
    "    fps = 30  # Frames per second\n",
    "    duration = 15  # seconds\n",
    "    simulationTime = 1  # seconds\n",
    "    deltaT = simulationTime / (fps * duration)\n",
    "\n",
    "    # Define M1 and M2 matrices\n",
    "    M1 = I - (1j * deltaT) / (2 * hbar) * H_mat\n",
    "    M2 = I + (1j * deltaT) / (2 * hbar) * H_mat\n",
    "\n",
    "    # Extract banded diagonals for efficient solving\n",
    "    lowerDiag_M1 = np.diag(M1, k=-1)  # subdiagonal\n",
    "    mainDiag_M1 = np.diag(M1, k=0)    # main diagonal\n",
    "    upperDiag_M1 = np.diag(M1, k=1)    # superdiagonal\n",
    "\n",
    "    M1_banded = np.vstack([\n",
    "        np.append(upperDiag_M1, [0]),  # Superdiagonal padded at the end\n",
    "        mainDiag_M1,                   # Main diagonal\n",
    "        np.append([0], lowerDiag_M1)    # Subdiagonal padded at the beginning\n",
    "    ])\n",
    "\n",
    "    # Time evolution loop\n",
    "    wavefunc_history = [wavefunc]\n",
    "    timesteps = fps * duration\n",
    "    for _ in range(timesteps):\n",
    "        rhs = M2 @ wavefunc_history[-1]  # Compute right-hand side\n",
    "        wavefunc = solve_banded((1, 1), M1_banded, rhs)  # Solve Ax = b\n",
    "        wavefunc_history.append(wavefunc)\n",
    "\n",
    "    # Convert to array for easier slicing\n",
    "    wavefunc_history = np.array(wavefunc_history)\n",
    "\n",
    "    # Final wavefunction (after evolution)\n",
    "    psi_final = wavefunc_history[-1]\n",
    "    \n",
    "    # Regions\n",
    "    x_I = x[x < potential.xmin]                                # Incident region\n",
    "    x_T = x[x > potential.xmin + potential.width]             # Transmitted region\n",
    "    x_B = x[(x > potential.xmin) & (x < potential.xmin + potential.width)]  # Inside barrier\n",
    "\n",
    "    # Calculate probabilities\n",
    "    psi_R = np.abs(psi_final[x < potential.xmin])**2\n",
    "    psi_T = np.abs(psi_final[x > potential.xmin + potential.width])**2\n",
    "    psi_B = np.abs(psi_final[(x > potential.xmin) & (x < potential.xmin + potential.width)])**2\n",
    "\n",
    "    # Integrate probability densities\n",
    "    R = simps(psi_R, x_I)\n",
    "    T = simps(psi_T, x_T)\n",
    "    B = simps(psi_B, x_B)\n",
    "\n",
    "    # Store coefficients\n",
    "    coefficients['R'].append(R)\n",
    "    coefficients['T'].append(T)\n",
    "    coefficients['B'].append(B)\n",
    "\n",
    "# Convert to numpy arrays for plotting\n",
    "sqrt_array = np.array(sqrt_v0_minus_Ek)\n",
    "R_array = np.array(coefficients['R'])\n",
    "T_array = np.array(coefficients['T'])\n",
    "B_array = np.array(coefficients['B'])\n",
    "\n",
    "# Sort all arrays by sqrt_array for proper plotting\n",
    "sort_idx = np.argsort(sqrt_array)\n",
    "sqrt_array = sqrt_array[sort_idx]\n",
    "R_array = R_array[sort_idx]\n",
    "T_array = T_array[sort_idx]\n",
    "B_array = B_array[sort_idx]\n",
    "\n",
    "# Plotting\n",
    "plt.figure(figsize=(10, 6))\n",
    "plt.plot(sqrt_array, R_array, 'r-', label='Reflection (R)', linewidth=2)\n",
    "plt.plot(sqrt_array, T_array, 'g-', label='Transmission (T)', linewidth=2)\n",
    "plt.plot(sqrt_array, B_array, 'b-', label='Barrier (B)', linewidth=2)\n",
    "plt.xlabel('√(V₀ - Eₖ) [sqrt(energy units)]')\n",
    "plt.ylabel('Probability Coefficient')\n",
    "plt.title('Transmission and Reflection Coefficients vs. √(V₀ - Eₖ)')\n",
    "plt.legend()\n",
    "plt.grid(True, alpha=0.3)\n",
    "\n",
    "\n",
    "# Print some key results\n",
    "print(\"\\nKey Results:\")\n",
    "print(f\"Maximum transmission: {np.max(T_array):.3f} at √(V₀-Eₖ) = {sqrt_array[np.argmax(T_array)]:.2f}\")\n",
    "print(f\"Minimum reflection: {np.min(R_array):.3f} at √(V₀-Eₖ) = {sqrt_array[np.argmin(R_array)]:.2f}\")"
   ]
  },
  {
   "cell_type": "code",
   "execution_count": 30,
   "id": "cb856e",
   "metadata": {
    "collapsed": false
   },
   "outputs": [
    {
     "name": "stdout",
     "output_type": "stream",
     "text": [
      "[0.95103211 0.95059241 0.95014985 0.94970443 0.94925618 0.94880511\n",
      " 0.94835123 0.94789456 0.94743512 0.94697292 0.94650798 0.94604032\n",
      " 0.94556996 0.94509691 0.9446212  0.94414283 0.94366184 0.94317824\n",
      " 0.94269204]\n"
     ]
    }
   ],
   "source": [
    "print(T_array)"
   ]
  },
  {
   "cell_type": "code",
   "execution_count": 0,
   "id": "0fa362",
   "metadata": {
    "collapsed": false
   },
   "outputs": [
   ],
   "source": [
    "potential = examplePotentials[\"InfinitePotentialWell\"]\n",
    "\n",
    "A = H.Hamiltonian(potential, x) # Create the Hamiltonian object\n",
    "eigenvalues, eigenvectors = A.solve()\n",
    "\n",
    "n_steps = np.arange(1, 10, 1)\n",
    "percDiffArr = []\n",
    "for n_curr in n_steps:\n",
    "    expectedE = n_curr**2 * h_conv**2 / (8 * mass_elec * (5 * distance_conv)**2)\n",
    "    calcE = eigenvalues[n_curr - 1] * energyConversion  # Your computed value\n",
    "    percDiff = abs(calcE - expectedE)/abs(expectedE) * 100\n",
    "    percDiffArr.append(percDiff)\n",
    "    \n",
    "plt.title('Percentage difference between $E_{exp}$ and $E_{calc}$ as a function of $n$')\n",
    "plt.plot(n_steps, percDiffArr, linestyle = '', marker = 'o')\n",
    "plt.ylabel('Percentage Difference'xlabel('$n$')\n",
    "plt.show()"
   ]
  },
  {
   "cell_type": "code",
   "execution_count": 0,
   "id": "186f05",
   "metadata": {
    "collapsed": false
   },
   "outputs": [
   ],
   "source": [
    "m, b = np.polyfit(n_steps, percDiffArr, 1)\n",
    "\n",
    "x_fit = np.linspace(x[mask].min(), x.max(), 200)\n",
    "y_fit = A*x_fit**(-p)\n",
    "\n",
    "plt.title('Percentage difference between $E_{exp}$ and $E_{calc}$ as a function of $N$')\n",
    "plt.plot(x_fit, y_fit, linestyle = '', marker = 'o')\n",
    "plt.ylabel('Percentage Difference', fontsize = 12)\n",
    "plt.xlabel('$N$')\n",
    "plt.show()"
   ]
  },
  {
   "cell_type": "code",
   "execution_count": 0,
   "id": "f7ed40",
   "metadata": {
    "collapsed": false
   },
   "outputs": [
   ],
   "source": [
    "N_steps = np.round(np.linspace(50, N, 20)).astype(int)\n",
    "n=1\n",
    "\n",
    "percDiffArr = []\n",
    "for N_curr in N_steps:\n",
    "    x = np.linspace(lower, upper, N_curr) # The x axis split into N points\n",
    "    N_A = H.Hamiltonian(potential, x) # Create the Hamiltonian object\n",
    "    N_eigenvalues, N_eigenvectors = N_A.solve()\n",
    "    \n",
    "    expectedE = n**2 * h_conv**2 / (8 * mass_elec * (5 * distance_conv)**2)\n",
    "    calcE = N_eigenvalues[n-1] * energyConversion  # Your computed value\n",
    "    percDiffrr.append(percDiff)\n",
    "    \n",
    "plt.title('Percentage difference between $E_{exp}$ and $E_{calc}$ as a function of $N$')\n",
    "plt.plot(N_steps, percDiffArr, linestyle = '', marker = 'o')\n",
    "plt.ylabel('Percentage Difference', fontsize = 12)\n",
    "plt.xlabel('$N$')\n",
    "plt.show() = abs(calcE - expectedE)/abs(expectedE) * 100\n",
    "    print(ffA\"Percentage difference for n = {n} with {N} points on x axis: {percDiff:.5f}%\")"
   ]
  },
  {
   "cell_type": "code",
   "execution_count": 0,
   "id": "034599",
   "metadata": {
    "collapsed": false
   },
   "outputs": [
   ],
   "source": [
    "plt.title('Percentage difference between $E_{exp}$ and $E_{calc}$ as a function of $N$')\n",
    "plt.plot(N_steps, percDiffArr, linestyle = '', marker = 'o')\n",
    "plt.ylabel('Percentage Difference', fontsize = 12)\n",
    "plt.xlabel('$N$')\n",
    "plt.show()"
   ]
  },
  {
   "cell_type": "code",
   "execution_count": 8,
   "id": "be2f45",
   "metadata": {
    "collapsed": false
   },
   "outputs": [
    {
     "data": {
      "image/png": "[encoded data removed]",
      "text/plain": "<Figure size 1200x700 with 1 Axes>"
     },
     "metadata": {
      "image/png": {
       "height": 622,
       "width": 1035
      }
     }
    },
    {
     "name": "stdout",
     "output_type": "stream",
     "text": [
      "The corresponding energies of these states are:\n",
      "E_1s = -2.17e-18 J = -13.55 eV\n",
      "E_2s = -5.40e-19 J = -3.37 eV\n",
      "E_2p = -5.41e-19 J = -3.38 eV\n"
     ]
    }
   ],
   "source": [
    "bohrRadius = 1 # eps0 = hbar = e = m = 1\n",
    "upperR = 15*bohrRadius\n",
    "\n",
    "energyConvRadial = (mass_elec*e_conv**4)/(4*np.pi*eps0_conv*hbar_conv)**2\n",
    "\n",
    "coulombPotential = p.CoulombPotential()\n",
    "r = np.linspace(0, upperR, 5000)\n",
    "\n",
    "r_interior = r[1:]\n",
    "# Construct the Hamiltonian only for r_interior\n",
    "N_interior = len(r_interior)\n",
    "\n",
    "l0 = H.RadialHamiltonian(coulombPotential, r_interior, l=0)\n",
    "l1 = H.RadialHamiltonian(coulombPotential, r_interior, l=1)\n",
    "\n",
    "eigenvalues_l0, eigenvectors_l0 = l0.solve()\n",
    "eigenvalues_l1, eigenvectors_l1 = l1.solve()\n",
    "\n",
    "# s-states (l=0)\n",
    "u_1s = eigenvectors_l0[:, 0]\n",
    "E_1s = eigenvalues_l0[0]\n",
    "u_2s = eigenvectors_l0[:, 1]\n",
    "E_2s = eigenvalues_l0[1]\n",
    "\n",
    "# p-states (l=1)\n",
    "u_2p = eigenvectors_l1[:, 0]\n",
    "E_2p = eigenvalues_l1[0]\n",
    "\n",
    "radial_states = {\n",
    "    (1, 's'): u_1s/ r[1:],\n",
    "    (2, 's'): u_2s/ r[1:],\n",
    "    (2, 'p'): u_2p/ r[1:]\n",
    "}\n",
    "                                          \n",
    "radial_energies = {\n",
    "    (1, 's'): E_1s * energyConvRadial,\n",
    "    (2, 's'): E_2s * energyConvRadial,\n",
    "    (2, 'p'): E_2p * energyConvRadial\n",
    "}\n",
    "\n",
    "for state in radial_states.keys():\n",
    "    n, l = state\n",
    "    eigenfunc = radial_states[state]\n",
    "    probDens = r[1:]**2 * np.abs(eigenfunc)**2\n",
    "    probDens /= simps(r[1:]**2 * np.abs(eigenfunc)**2, r[1:])\n",
    "    plt.plot(r[1:], probDens, label=f'Numerical: {n}{l}', lw=3)\n",
    "\n",
    "# Plotting the accepted values\n",
    "r_plotting = np.linspace(0, upperR, 50)\n",
    "radius = symbols('r')\n",
    "n, l = 2, 1  # Example quantum numbers\n",
    "n_2, l_2 =  1, 0\n",
    "n_3, l_3 =  2, 0\n",
    "R = R_nl(n, l, radius)\n",
    "R_2 = R_nl(n_2, l_2, radius)\n",
    "R_3 = R_nl(n_3, l_3, radius)\n",
    "\n",
    "R_func = lambdify(radius, R, modules=['numpy'])\n",
    "R_func_2 = lambdify(radius, R_2, modules=['numpy'])\n",
    "R_func_3 = lambdify(radius, R_3, modules=['numpy'])\n",
    "\n",
    "R_vals = R_func(r_plotting)\n",
    "R_vals_2 = R_func_2(r_plotting)\n",
    "R_vals_3 = R_func_3(r_plotting)\n",
    "    \n",
    "plt.plot(r_plotting, (r_plotting**2 * np.abs(R_vals)**2), label = 'Analytical 1s', linestyle = '', marker = 'o', markersize=6)\n",
    "plt.plot(r_plotting, (r_plotting**2 * np.abs(R_vals_3)**2), label = 'Analytical 2s', linestyle = '', marker = 'o', markersize=6)\n",
    "plt.plot(r_plotting, (r_plotting**2 * np.abs(R_vals_2)**2), label = 'Analytical 2p', linestyle = '', marker = 'o', markersize=6)\n",
    "\n",
    "\n",
    "    \n",
    "plt.legend(fontsize=18)\n",
    "plt.xlabel(\"r (atomic units)\", fontsize=18)\n",
    "plt.ylabel(r\"$|\\psi(x)|^2$\", fontsize=18)\n",
    "plt.xticks(fontsize=18)\n",
    "plt.yticks(fontsize=18)\n",
    "plt.show()\n",
    "\n",
    "print(f\"The corresponding energies of these states are:\")\n",
    "for state in radial_states.keys():\n",
    "    n, l = state\n",
    "    print(f\"E_{n}{l} = {radial_energies[state]:.2e} J = {radial_energies[state]/e_conv:.2f} eV\")\n",
    "\n",
    "    \n",
    "#r_numerical = np.linspace(0.00001, 20 * bohrRadius, N)\n",
    "#plt.plot(r_interior, R_nl(1, 0, r_interior, 1))    \n"
   ]
  },
  {
   "cell_type": "code",
   "execution_count": 9,
   "id": "82c82d",
   "metadata": {
    "collapsed": false
   },
   "outputs": [
    {
     "data": {
      "text/latex": [
       "$\\displaystyle 0.000225105374873448$"
      ],
      "text/plain": [
       "0.000225105374873448"
      ]
     },
     "execution_count": 9,
     "metadata": {
     },
     "output_type": "execute_result"
    }
   ],
   "source": [
    "np.abs((radial_energies[(1, 's')] - E_nl(1)*energyConvRadial)/  (E_nl(1)*energyConvRadial)) * 100"
   ]
  },
  {
   "cell_type": "code",
   "execution_count": 18,
   "id": "43c045",
   "metadata": {
    "collapsed": false
   },
   "outputs": [
    {
     "name": "stdout",
     "output_type": "stream",
     "text": [
      "n=2 : -13.5 eV\n",
      "n=2 : -3.39 eV\n"
     ]
    }
   ],
   "source": [
    "print(f'n=2 : {E_nl(1)*energyConvRadial/e_conv:.1f} eV')\n",
    "print(f'n=2 : {E_nl(2)*energyConvRadial/e_conv:.2f} eV')"
   ]
  }
 ],
 "metadata": {
  "kernelspec": {
   "argv": [
    "/usr/bin/python3",
    "-m",
    "ipykernel",
    "--HistoryManager.enabled=False",
    "--matplotlib=inline",
    "-c",
    "%config InlineBackend.figure_formats = set(['retina'])\nimport matplotlib; matplotlib.rcParams['figure.figsize'] = (12, 7)",
    "-f",
    "{connection_file}"
   ],
   "display_name": "Python 3 (system-wide)",
   "env": {
   },
   "language": "python",
   "metadata": {
    "cocalc": {
     "description": "Python 3 programming language",
     "priority": 100,
     "url": "https://www.python.org/"
    }
   },
   "name": "python3",
   "resource_dir": "/ext/jupyter/kernels/python3"
  },
  "language_info": {
   "codemirror_mode": {
    "name": "ipython",
    "version": 3
   },
   "file_extension": ".py",
   "mimetype": "text/x-python",
   "name": "python",
   "nbconvert_exporter": "python",
   "pygments_lexer": "ipython3",
   "version": "3.10.12"
  }
 },
 "nbformat": 4,
 "nbformat_minor": 4
}